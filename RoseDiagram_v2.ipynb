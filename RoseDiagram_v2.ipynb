{
  "nbformat": 4,
  "nbformat_minor": 0,
  "metadata": {
    "colab": {
      "provenance": [],
      "authorship_tag": "ABX9TyOzavi/bk7QPHF/ZRX+7Hpc",
      "include_colab_link": true
    },
    "kernelspec": {
      "name": "python3",
      "display_name": "Python 3"
    },
    "language_info": {
      "name": "python"
    }
  },
  "cells": [
    {
      "cell_type": "markdown",
      "metadata": {
        "id": "view-in-github",
        "colab_type": "text"
      },
      "source": [
        "<a href=\"https://colab.research.google.com/github/mzucali/pyStereoRose/blob/main/RoseDiagram_v2.ipynb\" target=\"_parent\"><img src=\"https://colab.research.google.com/assets/colab-badge.svg\" alt=\"Open In Colab\"/></a>"
      ]
    },
    {
      "cell_type": "code",
      "execution_count": 1,
      "metadata": {
        "id": "mElEI-EVoYS6"
      },
      "outputs": [],
      "source": [
        "import os\n",
        "import sys\n",
        "import numpy as np\n",
        "#import mplstereonet\n",
        "#import matplotlib.pyplot as plt ##versione py2\n",
        "import matplotlib\n",
        "#matplotlib.use('TkAgg')\n",
        "from matplotlib import pyplot as plt #py3 anche py2\n",
        "#from matplotlib.pyplot import *\n",
        "import pandas as pd\n",
        "#matplotlib inline\n",
        "#%matplotlib notebook\n",
        "from pathlib import Path\n"
      ]
    },
    {
      "cell_type": "markdown",
      "source": [
        "DEEPSEEK helped code"
      ],
      "metadata": {
        "id": "ro_BTzA7MDsW"
      }
    },
    {
      "cell_type": "markdown",
      "source": [
        "ROSE DIAGRAM v2 29/01/2025"
      ],
      "metadata": {
        "id": "SYvp_e0OSUcl"
      }
    },
    {
      "cell_type": "code",
      "source": [
        "import numpy as np\n",
        "import matplotlib.pyplot as plt\n",
        "import pandas as pd"
      ],
      "metadata": {
        "id": "tGRRezDRSM0T"
      },
      "execution_count": null,
      "outputs": []
    },
    {
      "cell_type": "code",
      "source": [
        "# prompt: upload a file from local\n",
        "\n",
        "from google.colab import files\n",
        "uploaded = files.upload()\n",
        "print(uploaded)\n",
        "file_name = list(uploaded.keys())[0]\n",
        "print(file_name)"
      ],
      "metadata": {
        "id": "m7aQNE-eJ012"
      },
      "execution_count": null,
      "outputs": []
    },
    {
      "cell_type": "code",
      "source": [
        "# Load the Excel file\n",
        "#file_path = 'input_rose_dir_len.xlsx'  # Replace with your file path\n",
        "file_path = file_name\n",
        "print(file_path)\n",
        "sheet_name = 'Sheet1'  # Replace with your sheet name\n",
        "direction_column = 'dir'  # Replace with the column name containing direction data\n",
        "weight_column = 'len'  # Replace with the column name containing weight data"
      ],
      "metadata": {
        "id": "hxVIGBBRSQrt"
      },
      "execution_count": null,
      "outputs": []
    },
    {
      "cell_type": "code",
      "source": [
        "##RUNNING\n",
        "\n",
        "# Read the Excel file\n",
        "df = pd.read_excel(file_path, sheet_name=sheet_name)\n",
        "\n",
        "# Extract the direction data\n",
        "direction_data = df[direction_column].dropna().tolist()  # Drop NaN values and convert to list\n",
        "\n",
        "# Ask the user if they want to use the weight column\n",
        "use_weight = input(\"Do you want to use the weight column? (yes/no): \").strip().lower()\n",
        "\n",
        "if use_weight == 'yes':\n",
        "    # Extract the weight data\n",
        "    weight_data = df[weight_column].dropna().tolist()  # Drop NaN values and convert to list\n",
        "    weights = weight_data\n",
        "    title_suffix = f\" (Weighted by {weight_column})\"\n",
        "else:\n",
        "    weights = None\n",
        "    title_suffix = \"\"\n",
        "\n",
        "# Convert degrees to radians\n",
        "direction_data_radians = np.radians(direction_data)\n",
        "\n",
        "# Number of bins for the rose diagram\n",
        "num_bins = 36  # You can adjust this for finer or coarser bins\n",
        "\n",
        "# Create a histogram of the direction data, optionally weighted\n",
        "counts, bin_edges = np.histogram(direction_data_radians, bins=num_bins, range=(0, 2*np.pi), weights=weights)\n",
        "\n",
        "# Create the rose diagram\n",
        "fig, ax = plt.subplots(subplot_kw={'projection': 'polar'})\n",
        "plt.tight_layout()\n",
        "\n",
        "# Plot the bars\n",
        "ax.bar(bin_edges[:-1], counts, width=(2*np.pi/num_bins), bottom=0.0, color='blue', alpha=0.7)\n",
        "\n",
        "# Set the direction of the plot to match compass directions (0 degrees at the top)\n",
        "ax.set_theta_zero_location('N')  # 0 degrees at the top\n",
        "ax.set_theta_direction(-1)  # Clockwise direction\n",
        "\n",
        "# Set the x-axis (theta) limits to 0 to 360 degrees\n",
        "ax.set_thetamin(0)\n",
        "ax.set_thetamax(360)\n",
        "\n",
        "# Add a title\n",
        "ax.set_title(f\"Rose Diagram of {direction_column} Data{title_suffix}\", pad=25)\n",
        "\n",
        "# Show the plot\n",
        "plt.show()\n",
        "\n",
        "\n",
        "fig.savefig(file_path+\".png\")\n",
        "\n",
        "#fig2.savefig('foo2.png')\n",
        "#name =\"nome\"\n",
        "#print(\"filename= \")\n",
        "#print(filename)\n",
        "#name= Path(filename).name\n",
        "\n",
        "#fig2.savefig(filename+\"_w.png\")\n",
        "#fig3.savefig(filename+\"_wdT.png\")\n",
        "#plt.close(fig)\n",
        "#plt.close(fig2)\n",
        "\n",
        "plt.close(\"all\")\n"
      ],
      "metadata": {
        "id": "MecRuwttP8O8"
      },
      "execution_count": null,
      "outputs": []
    }
  ]
}