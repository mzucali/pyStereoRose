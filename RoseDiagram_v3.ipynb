{
  "nbformat": 4,
  "nbformat_minor": 0,
  "metadata": {
    "colab": {
      "provenance": [],
      "authorship_tag": "ABX9TyMIRYAQk52iYzgU5GyBSLn0",
      "include_colab_link": true
    },
    "kernelspec": {
      "name": "python3",
      "display_name": "Python 3"
    },
    "language_info": {
      "name": "python"
    }
  },
  "cells": [
    {
      "cell_type": "markdown",
      "metadata": {
        "id": "view-in-github",
        "colab_type": "text"
      },
      "source": [
        "<a href=\"https://colab.research.google.com/github/mzucali/pyStereoRose/blob/main/RoseDiagram_v3.ipynb\" target=\"_parent\"><img src=\"https://colab.research.google.com/assets/colab-badge.svg\" alt=\"Open In Colab\"/></a>"
      ]
    },
    {
      "cell_type": "markdown",
      "source": [
        "python IMPORT STATEMENTs\n",
        "\n",
        "RUN the box"
      ],
      "metadata": {
        "id": "BENPk-Y4syIs"
      }
    },
    {
      "cell_type": "code",
      "source": [
        "import pandas as pd\n",
        "import numpy as np\n",
        "import matplotlib.pyplot as plt\n",
        "from pathlib import Path"
      ],
      "metadata": {
        "id": "3ZsJ5C3oslAk"
      },
      "execution_count": 3,
      "outputs": []
    },
    {
      "cell_type": "markdown",
      "source": [
        "Function definition\n",
        "\n",
        "RUN it"
      ],
      "metadata": {
        "id": "A8r11WcYs6Ru"
      }
    },
    {
      "cell_type": "code",
      "source": [
        "\n",
        "# Function to load and separate data based on the 'type' column\n",
        "def load_and_separate_data(df, direction_column, weight_column, type_column, use_weight):\n",
        "#def load_and_separate_data(file_path, direction_column, weight_column, use_weight):\n",
        "    df = df\n",
        "#    df = pd.read_excel(file_path)\n",
        "    separated_data = {'axes': ([], []), 'directions': ([], [])}\n",
        "\n",
        "    for _, row in df.iterrows():\n",
        "        data_type = row[type_column].strip().lower()\n",
        "        if data_type not in ['axes', 'directions']:\n",
        "            continue  # Skip invalid entries\n",
        "\n",
        "        direction = row[direction_column]\n",
        "        if pd.isna(direction):\n",
        "            continue  # Skip missing values\n",
        "\n",
        "        weight = row[weight_column] if use_weight == 'yes' and not pd.isna(row[weight_column]) else 1\n",
        "\n",
        "        if data_type == 'directions':\n",
        "            # Convert axes to bi-directional (0-180° mirrored to 180-360°)\n",
        "            direction1 = direction % 180  # Normalize to [0,180)\n",
        "            direction2 = (direction1 + 180) % 360  # Mirror at 180°\n",
        "            separated_data[data_type][0].extend([direction1, direction2])\n",
        "            separated_data[data_type][1].extend([weight, weight])\n",
        "        else:\n",
        "            separated_data[data_type][0].append(direction % 360)  # Ensure within 0-360\n",
        "            separated_data[data_type][1].append(weight)\n",
        "\n",
        "    return separated_data\n"
      ],
      "metadata": {
        "id": "Tj8SWl5UrZmS"
      },
      "execution_count": 5,
      "outputs": []
    },
    {
      "cell_type": "markdown",
      "source": [
        "**SET** VARIABLES\n",
        "\n",
        "\n",
        "1.   upload your .xlsx file\n",
        "2.   set the headers here (e.g., **DIR** for azimuthal values, **LEN** for weight factor, **mode** for data type)\n",
        "3. data type must be **directions** (bi-directional data) or **axes** (mono-directional data)\n",
        "4. example file is here: https://www.dropbox.com/scl/fi/odpv1fg18er3ujys99u0y/Rose_input_test.xlsx?rlkey=4un4kbk01d4ais4t8cos69sc8&dl=0\n",
        "5. change file_path = '' variable with your actual file name\n",
        "\n",
        "\n",
        "then **RUN**\n",
        "\n",
        "\n",
        "\n"
      ],
      "metadata": {
        "id": "yuhEUOfGtBOE"
      }
    },
    {
      "cell_type": "code",
      "source": [
        "indicator_mapping = {\n",
        "    'groove': 'directions',\n",
        "    'lineation': 'directions',\n",
        "    'flute': 'axes',\n",
        "    'ripple': 'axes',\n",
        "    'cross lamination': 'axes',\n",
        "    'trough stratification': 'axes',\n",
        "    'imbrication': 'axes',\n",
        "    'dune': 'axes'\n",
        "}"
      ],
      "metadata": {
        "id": "Q5rmP3kKjVjA"
      },
      "execution_count": 6,
      "outputs": []
    },
    {
      "cell_type": "code",
      "source": [
        "# Read the Excel file\n",
        "file_path0 = '/content/Rose_input_test.xlsx'  # Replace with your file path\n",
        "df = pd.read_excel(file_path0)\n",
        "\n",
        "# Create the 'mode' column based on the mapping\n",
        "df['mode'] = df['paleocurrent_indicator'].str.lower().map(indicator_mapping)\n",
        "#df['mode'] = df['mode'].astype(str)\n",
        "# Save the modified dataframe back to Excel\n",
        "df.to_excel(\"Rose_input_test_updated_file.xlsx\", index=False)\n",
        "\n",
        "# Display the first few rows\n",
        "print(df.head())\n",
        "print()\n",
        "\n",
        "print()\n",
        "print(type(df['mode'].items))"
      ],
      "metadata": {
        "id": "v7pW3z_0j0du"
      },
      "execution_count": null,
      "outputs": []
    },
    {
      "cell_type": "code",
      "source": [
        "# Ask the user for input\n",
        "#file_path = input(\"Enter the file path: \")\n",
        "#file_path2 = '/content/Rose_input_test_updated_file.xlsx'\n",
        "#sheet_name = input(\"Enter the sheet name: \")\n",
        "#direction_column = input(\"Enter the direction column name: \")\n",
        "direction_column = 'DIR'\n",
        "\n",
        "#weight_column = input(\"Enter the weight column name: \")\n",
        "weight_column = 'LEN'\n",
        "\n",
        "#type_column = input(\"Enter the type column name: \")\n",
        "type_column = 'mode'\n",
        "\n",
        "#use_weight = input(\"Do you want to use the weight column? (yes/no): \").strip().lower()\n",
        "use_weight = 'no'\n",
        "\n",
        "# Load and separate data\n",
        "separated_data = load_and_separate_data(df, direction_column, weight_column, type_column, use_weight)\n",
        "#separated_data = load_and_separate_data(file_path, direction_column, weight_column, use_weight)\n",
        "\n"
      ],
      "metadata": {
        "id": "OMVZb4hZsp7R"
      },
      "execution_count": 14,
      "outputs": []
    },
    {
      "cell_type": "markdown",
      "source": [
        "check data with this output for **axes** type data"
      ],
      "metadata": {
        "id": "Lw6tK-KOuije"
      }
    },
    {
      "cell_type": "code",
      "source": [
        "print(separated_data['axes'])"
      ],
      "metadata": {
        "id": "P6siaw1wMZqN"
      },
      "execution_count": null,
      "outputs": []
    },
    {
      "cell_type": "markdown",
      "source": [
        "check data with this output for **direction** type data"
      ],
      "metadata": {
        "id": "gj5k_mZ_ulg5"
      }
    },
    {
      "cell_type": "code",
      "source": [
        "print(separated_data['directions'])"
      ],
      "metadata": {
        "id": "9_wUe2cvRxUY"
      },
      "execution_count": null,
      "outputs": []
    },
    {
      "cell_type": "markdown",
      "source": [
        "RUN this code to get plot and save it as raster (png) and vector files (eps, pdf, svg)"
      ],
      "metadata": {
        "id": "WxmzPxRluq5Q"
      }
    },
    {
      "cell_type": "code",
      "source": [
        "# Initialize figure\n",
        "fig, ax = plt.subplots(subplot_kw={'projection': 'polar'})\n",
        "plt.tight_layout()\n",
        "colors = {'axes': 'blue', 'directions': 'red'}\n",
        "labels = {\n",
        "    'axes': f\"Axes (N={len(separated_data['axes'][0])})\",\n",
        "    'directions': f\"Directions (N={len(separated_data['directions'][0])})\"\n",
        "}\n",
        "\n",
        "# Process and plot each type\n",
        "theta_range = (0, 2 * np.pi)\n",
        "num_bins = 36\n",
        "for data_type, (direction_data, weights) in separated_data.items():\n",
        "    if direction_data:\n",
        "        direction_data_radians = np.radians(direction_data)\n",
        "        counts, bin_edges = np.histogram(direction_data_radians, bins=num_bins, range=theta_range, weights=weights)\n",
        "        ax.bar(bin_edges[:-1], counts, width=(2*np.pi/num_bins), bottom=0.0, color=colors[data_type], alpha=1, label=labels[data_type])\n",
        "\n",
        "# Set plot properties\n",
        "ax.set_theta_zero_location('N')\n",
        "ax.set_theta_direction(-1)\n",
        "ax.set_thetamin(0)\n",
        "ax.set_thetamax(360)\n",
        "ax.set_title(f\"Rose Diagram of {direction_column} Data\", pad=25)\n",
        "if any(len(direction_data) > 0 for direction_data, _ in separated_data.values()):\n",
        "    ax.legend()\n",
        "\n",
        "# Show and save the plot\n",
        "plt.show()\n",
        "output_filename = \"categorized_rose_diagram.png\"\n",
        "fig.savefig(output_filename)\n",
        "\n",
        "# Save the plot in different vector formats\n",
        "output_filename_svg = \"categorized_rose_diagram.svg\"\n",
        "output_filename_pdf = \"categorized_rose_diagram.pdf\"\n",
        "output_filename_eps = \"categorized_rose_diagram.eps\"\n",
        "\n",
        "fig.savefig(output_filename_svg, format=\"svg\")\n",
        "fig.savefig(output_filename_pdf, format=\"pdf\")\n",
        "fig.savefig(output_filename_eps, format=\"eps\")\n",
        "\n",
        "plt.close(\"all\")"
      ],
      "metadata": {
        "id": "IwibdVVostUA"
      },
      "execution_count": null,
      "outputs": []
    }
  ]
}